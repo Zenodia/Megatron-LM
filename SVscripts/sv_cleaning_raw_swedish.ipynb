{
 "cells": [
  {
   "cell_type": "markdown",
   "metadata": {},
   "source": [
    "# (1) use sed -r '/^\\s*$/d' sv.txt > nonempty_sv.txt"
   ]
  },
  {
   "cell_type": "markdown",
   "metadata": {},
   "source": [
    "# (2) use split4parts to split nonempty_sv.txt to 4 parts for processing due to PC host mem constraint"
   ]
  },
  {
   "cell_type": "markdown",
   "metadata": {},
   "source": [
    "# (3) run thru the following SVfilter.py 4 times to process the data to the cleaned folder \n",
    "#### example syntax \n",
    "#### python SVfilter.py --input_dir SV_CC100_part_aaad --output_dir ./cleaned/SV_CC100_Part4.txt --num_cpu 8"
   ]
  },
  {
   "cell_type": "code",
   "execution_count": 1,
   "metadata": {},
   "outputs": [
    {
     "name": "stdout",
     "output_type": "stream",
     "text": [
      "Overwriting SVfilter.py\n"
     ]
    }
   ],
   "source": [
    "%%writefile SVfilter.py\n",
    "import sys\n",
    "import multiprocessing\n",
    "import os\n",
    "from multiprocessing import Pool,cpu_count\n",
    "import nltk\n",
    "import nltk\n",
    "from nltk.tokenize import sent_tokenize\n",
    "\n",
    "import argparse\n",
    "\n",
    "def cut(sentence):\n",
    "    sents=sent_tokenizer(line)\n",
    "    sents=[s for s in sents if len(s)>1]\n",
    "    if len(sents)>2: # we filter only more than 2 sentences in each doc\n",
    "        return ''.join(sents)\n",
    "    else:\n",
    "        return ''\n",
    "\n",
    "def main(args):\n",
    "    num_cpus_to_use=int(args.num_cpu)\n",
    "    lines=[]\n",
    "    with open(args.input_dir, 'r', errors='ignore') as f:\n",
    "        for k, line in enumerate(f, 1):\n",
    "            line=line.replace('~','')\n",
    "            line=line.replace('…','')\n",
    "            line=line.strip()\n",
    "            if not line:\n",
    "                continue\n",
    "            else:\n",
    "                if len(line)>0 and line not in ['\\n','','\\r\\n','\\t',' ']:\n",
    "                    lines.append(line)\n",
    "                    k+=1\n",
    "    print(\"Finish reading the file with number of non_empty lines \", str(k))\n",
    "    # 创建进程池\n",
    "    pool = Pool(num_cpus_to_use)\n",
    "    data = pool.imap(cut,lines, 512)\n",
    "    i=0\n",
    "    outfile = open(args.output_dir, 'a')\n",
    "    for i,dat in enumerate(data):\n",
    "        if len(dat) >0:\n",
    "            #print(i,dat,type(dat))\n",
    "            outfile.write(dat+'\\n')\n",
    "        if i%1000000==0:\n",
    "            print(\"processed {} million lines ...\\n\".format(str(i/1000000)))\n",
    "            print(\"sample dat at i\",i, dat)\n",
    "    print(\"processing finished !\")\n",
    "    f.close()\n",
    "    outfile.close()\n",
    "    \n",
    "if __name__ == '__main__':\n",
    "    parser = argparse.ArgumentParser()\n",
    "    parser.add_argument('--input_dir', default=None, type=str,  help='input file path')\n",
    "    parser.add_argument('--output_dir', default=None, type=str, \n",
    "                        help='output file path')\n",
    "    parser.add_argument('--num_cpu', default=48, type=int, \n",
    "                        help='number of cpus used for multiprocesing')\n",
    "    args = parser.parse_args()\n",
    "    main(args)\n",
    "\n",
    "\n",
    "\n",
    "\n"
   ]
  },
  {
   "cell_type": "code",
   "execution_count": 20,
   "metadata": {},
   "outputs": [],
   "source": []
  },
  {
   "cell_type": "code",
   "execution_count": 22,
   "metadata": {},
   "outputs": [
    {
     "name": "stdout",
     "output_type": "stream",
     "text": [
      "sentence 0 : Efter en intensiv helg med ridlektionsjobb och sånguppträdande, mycket intryck och människor tar jag en lugn dag hemma idag. \n",
      "\n",
      "sentence 1 : Blir ju alltid lite dagen-efter efter sånt här, huvudvärk, kan typ sova ett dygn, yr och muskelvärk.Helgen har trots sin intensitet varit väldigt väldigt fin. \n",
      "\n",
      "sentence 2 : Fått umgås med familjen och min älskade sambo.En fin vistelse på hotell osv.Milla har fått vara hos våra vänner Malin och Theo och levt livet - där bor nämligen också hennes bästishund Twix. \n",
      "\n",
      "sentence 3 : Min hjärna blir ju extremt trött av intryck så tycker lite synd om stackars Martin när det blir såna här intensiva helger.Jag blir liksom helt slut efteråt mentalt och fysiskt.Som ett skal,\n",
      " och grubblig och ledsen.Hjärnan kokar över.Men känns skönt att det blir bättre och bättre hela tiden. \n",
      "\n"
     ]
    }
   ],
   "source": [
    "text=\"Efter en intensiv helg med ridlektionsjobb och sånguppträdande, mycket intryck och människor tar jag en lugn dag hemma idag.\\n Blir ju alltid lite dagen-efter efter sånt här, huvudvärk, kan typ sova ett dygn, yr och muskelvärk.Helgen har trots sin intensitet varit väldigt väldigt fin.\\nFått umgås med familjen och min älskade sambo.En fin vistelse på hotell osv.Milla har fått vara hos våra vänner Malin och Theo och levt livet - där bor nämligen också hennes bästishund Twix.\\nMin hjärna blir ju extremt trött av intryck så tycker lite synd om stackars Martin när det blir såna här intensiva helger.Jag blir liksom helt slut efteråt mentalt och fysiskt.Som ett skal,\\n och grubblig och ledsen.Hjärnan kokar över.Men känns skönt att det blir bättre och bättre hela tiden.\"\n",
    "i=0\n",
    "sents=splitter(text)\n",
    "\n",
    "for sent in sents:\n",
    "    print(\"sentence {} : {} \\n\".format(str(i), sent))\n",
    "    i+=1"
   ]
  },
  {
   "cell_type": "markdown",
   "metadata": {},
   "source": [
    "# (4) run the train tokenizer script for the following pretrained tokenizer\n",
    "### BPE with vocab size 16k/32k and 48k, \n",
    "#### note the 16k BPE does not do a good job, seperting the tokenize into individual characters ... \n",
    "### WordPiece with vocab size 16k/32k/48k \n"
   ]
  },
  {
   "cell_type": "markdown",
   "metadata": {},
   "source": [
    "# (5) run preprocessing script for both GPT ( original ) and Bert ( preprocessSVdata.py ) and use 32k to start with \n",
    "### do NOT use the multiprocessing, it will blow up the system mem and kill job or has broken pipe error "
   ]
  },
  {
   "cell_type": "code",
   "execution_count": 24,
   "metadata": {},
   "outputs": [
    {
     "ename": "ModuleNotFoundError",
     "evalue": "No module named 'megatron'",
     "output_type": "error",
     "traceback": [
      "\u001b[0;31m---------------------------------------------------------------------------\u001b[0m",
      "\u001b[0;31mModuleNotFoundError\u001b[0m                       Traceback (most recent call last)",
      "\u001b[0;32m<ipython-input-24-1350497c56be>\u001b[0m in \u001b[0;36m<module>\u001b[0;34m\u001b[0m\n\u001b[0;32m----> 1\u001b[0;31m \u001b[0;32mfrom\u001b[0m \u001b[0mmegatron\u001b[0m\u001b[0;34m.\u001b[0m\u001b[0mtokenizer\u001b[0m\u001b[0;34m.\u001b[0m\u001b[0mtokenizer\u001b[0m \u001b[0;32mimport\u001b[0m \u001b[0mbuild_debug\u001b[0m\u001b[0;34m\u001b[0m\u001b[0;34m\u001b[0m\u001b[0m\n\u001b[0m\u001b[1;32m      2\u001b[0m \u001b[0mvocab_f\u001b[0m\u001b[0;34m=\u001b[0m\u001b[0;34m'/workspace/SVdata/bpe/32k/vocab.json'\u001b[0m\u001b[0;34m\u001b[0m\u001b[0;34m\u001b[0m\u001b[0m\n\u001b[1;32m      3\u001b[0m \u001b[0mmerge_f\u001b[0m\u001b[0;34m=\u001b[0m\u001b[0;34m'/workspace/SVdata/bpe/32k/merges.txt'\u001b[0m\u001b[0;34m\u001b[0m\u001b[0;34m\u001b[0m\u001b[0m\n\u001b[1;32m      4\u001b[0m \u001b[0msv_tokenizer\u001b[0m\u001b[0;34m=\u001b[0m\u001b[0mbuild_debug\u001b[0m\u001b[0;34m(\u001b[0m\u001b[0mvocab_f\u001b[0m\u001b[0;34m,\u001b[0m\u001b[0mmerge_f\u001b[0m\u001b[0;34m,\u001b[0m \u001b[0mtokenizer_type\u001b[0m\u001b[0;34m=\u001b[0m\u001b[0;34m'bpe'\u001b[0m\u001b[0;34m)\u001b[0m\u001b[0;34m\u001b[0m\u001b[0;34m\u001b[0m\u001b[0m\n",
      "\u001b[0;31mModuleNotFoundError\u001b[0m: No module named 'megatron'"
     ]
    }
   ],
   "source": [
    "from megatron.tokenizer.tokenizer import build_debug\n",
    "vocab_f='/workspace/SVdata/bpe/32k/vocab.json'\n",
    "merge_f='/workspace/SVdata/bpe/32k/merges.txt'\n",
    "sv_tokenizer=build_debug(vocab_f,merge_f, tokenizer_type='bpe')\n"
   ]
  }
 ],
 "metadata": {
  "kernelspec": {
   "display_name": "Python 3",
   "language": "python",
   "name": "python3"
  },
  "language_info": {
   "codemirror_mode": {
    "name": "ipython",
    "version": 3
   },
   "file_extension": ".py",
   "mimetype": "text/x-python",
   "name": "python",
   "nbconvert_exporter": "python",
   "pygments_lexer": "ipython3",
   "version": "3.8.8"
  }
 },
 "nbformat": 4,
 "nbformat_minor": 4
}
