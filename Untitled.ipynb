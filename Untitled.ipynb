{
 "cells": [
  {
   "cell_type": "code",
   "execution_count": 2,
   "id": "human-moderator",
   "metadata": {},
   "outputs": [
    {
     "name": "stdout",
     "output_type": "stream",
     "text": [
      "False 0\n",
      "False 1\n",
      "False 2\n",
      "False 3\n",
      "False 4\n"
     ]
    }
   ],
   "source": [
    "flag=False\n",
    "i=0\n",
    "def iterate_data(i,flag):\n",
    "    if i==5:\n",
    "        flag=True\n",
    "        return flag\n",
    "    else:\n",
    "        return flag\n",
    "while not flag:\n",
    "    print(flag, i)\n",
    "    i+=1\n",
    "    flag=iterate_data(i, flag)"
   ]
  }
 ],
 "metadata": {
  "kernelspec": {
   "display_name": "Python 3",
   "language": "python",
   "name": "python3"
  },
  "language_info": {
   "codemirror_mode": {
    "name": "ipython",
    "version": 3
   },
   "file_extension": ".py",
   "mimetype": "text/x-python",
   "name": "python",
   "nbconvert_exporter": "python",
   "pygments_lexer": "ipython3",
   "version": "3.8.8"
  }
 },
 "nbformat": 4,
 "nbformat_minor": 5
}
