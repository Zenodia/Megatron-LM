{
 "cells": [
  {
   "cell_type": "code",
   "execution_count": null,
   "metadata": {},
   "outputs": [],
   "source": [
    "from megatron.tokenizer.tokenizer import build_debug\n",
    "#sample_doc='邻近皇宫萨纳雷斯河，穆斯林称为（阿拉伯语:المجريط，「水的来源」）。'\n",
    "raw_text=\"Har någon funderat på varför man inte får inomhusteperaturens kurva synlig i grafen? Är det någon som frågat Thermia? Skulle det inte vara väsentligt att kunna kolla historiken på den då man skall ställa in kurvan?\"\n",
    "\n",
    "vocab_f='/workspace/SVdata/bpe/32k/vocab.json'\n",
    "merge_f='/workspace/SVdata/bpe/32k/merges.txt'\n",
    "tokenizer=build_debug(vocab_f,merge_f, 'gpt')\n",
    "token_ids=tokenizer.tokenize(raw_text)\n",
    "print(token_ids)\n"
   ]
  },
  {
   "cell_type": "code",
   "execution_count": null,
   "metadata": {},
   "outputs": [],
   "source": [
    "tokenizer.detokenize(token_ids)"
   ]
  },
  {
   "cell_type": "code",
   "execution_count": 1,
   "metadata": {},
   "outputs": [
    {
     "name": "stdout",
     "output_type": "stream",
     "text": [
      "loading gpt2 tokenizer\n",
      "[13195, 714, 10695, 309, 1897, 415, 354, 576, 870, 11677, 501, 4366, 401, 30139, 20299, 290, 9883, 259, 31, 1442, 315, 714, 316, 15533, 11773, 77, 748, 31, 4361, 315, 354, 523, 16386, 294, 1030, 2792, 29239, 309, 362, 573, 415, 1219, 3606, 304, 27913, 31]\n"
     ]
    }
   ],
   "source": [
    "\n",
    "from megatron.tokenizer.tokenizer import build_debug\n",
    "#sample_doc='邻近皇宫萨纳雷斯河，穆斯林称为（阿拉伯语:المجريط，「水的来源」）。'\n",
    "#raw_text=\"I am going to preprocess this processed goods, this a unprecedentally important.\"\n",
    "raw_text=\"Har någon funderat på varför man inte får inomhusteperaturens kurva synlig i grafen? Är det någon som frågat Thermia? Skulle det inte vara väsentligt att kunna kolla historiken på den då man skall ställa in kurvan?\"\n",
    "\n",
    "vocab_f='/workspace/SVdata/gpt2bpe/32k/vocab.json'\n",
    "merge_f='/workspace/SVdata/gpt2bpe/32k/merges.txt'\n",
    "tokenizer=build_debug(vocab_f,merge_f, 'gpt')\n",
    "token_ids=tokenizer.tokenize(raw_text)\n",
    "print(token_ids)"
   ]
  },
  {
   "cell_type": "code",
   "execution_count": 2,
   "metadata": {},
   "outputs": [
    {
     "name": "stdout",
     "output_type": "stream",
     "text": [
      "in gpt2tokenizer decode function  HarĠnÃ¥gonĠfunderatĠpÃ¥ĠvarfÃ¶rĠmanĠinteĠfÃ¥rĠinomhusteperaturensĠkurvaĠsynligĠiĠgrafen?ĠÃĦrĠdetĠnÃ¥gonĠsomĠfrÃ¥gatĠThermia?ĠSkulleĠdetĠinteĠvaraĠvÃ¤sentligtĠattĠkunnaĠkollaĠhistorikenĠpÃ¥ĠdenĠdÃ¥ĠmanĠskallĠstÃ¤llaĠinĠkurvan?\n"
     ]
    },
    {
     "data": {
      "text/plain": [
       "'Har någon funderat på varför man inte får inomhusteperaturens kurva synlig i grafen? Är det någon som frågat Thermia? Skulle det inte vara väsentligt att kunna kolla historiken på den då man skall ställa in kurvan?'"
      ]
     },
     "execution_count": 2,
     "metadata": {},
     "output_type": "execute_result"
    }
   ],
   "source": [
    "tokenizer.detokenize(token_ids)"
   ]
  },
  {
   "cell_type": "code",
   "execution_count": 8,
   "metadata": {},
   "outputs": [],
   "source": [
    "import numpy as np\n",
    "import random\n",
    "vocab_id_list=[v for (k,v) in tokenizer.vocab.items()] \n",
    "vocab_id_to_token_dict=tokenizer.inv_vocab\n",
    "masked_lm_prob=0.15\n",
    "\n",
    "max_predictions_per_seq=512\n",
    "np_rng=np.random.default_rng(12345)"
   ]
  },
  {
   "cell_type": "code",
   "execution_count": 12,
   "metadata": {},
   "outputs": [],
   "source": [
    "\n",
    "eod_id=tokenizer.eod_id"
   ]
  },
  {
   "cell_type": "code",
   "execution_count": null,
   "metadata": {},
   "outputs": [],
   "source": []
  },
  {
   "cell_type": "code",
   "execution_count": 9,
   "metadata": {},
   "outputs": [],
   "source": [
    "from numpy import random as np_rng\n"
   ]
  },
  {
   "cell_type": "code",
   "execution_count": 10,
   "metadata": {},
   "outputs": [],
   "source": [
    "from megatron.data.dataset_utils import create_masked_lm_predictions"
   ]
  },
  {
   "cell_type": "code",
   "execution_count": 13,
   "metadata": {},
   "outputs": [],
   "source": [
    "output_tokens, masked_lm_positions, masked_lm_labels, token_boundary= create_masked_lm_predictions(token_ids,\n",
    "                                 vocab_id_list, vocab_id_to_token_dict,\n",
    "                                 masked_lm_prob,\n",
    "                                 eod_id, eod_id, eod_id,\n",
    "                                 max_predictions_per_seq,\n",
    "                                 np_rng,\n",
    "                                 3,\n",
    "                                 True,\n",
    "                                 False,\n",
    "                                 False)"
   ]
  },
  {
   "cell_type": "code",
   "execution_count": 14,
   "metadata": {},
   "outputs": [
    {
     "data": {
      "text/plain": [
       "([13195,\n",
       "  714,\n",
       "  0,\n",
       "  0,\n",
       "  0,\n",
       "  415,\n",
       "  354,\n",
       "  576,\n",
       "  870,\n",
       "  11677,\n",
       "  501,\n",
       "  4366,\n",
       "  401,\n",
       "  30139,\n",
       "  0,\n",
       "  290,\n",
       "  9883,\n",
       "  259,\n",
       "  31,\n",
       "  1442,\n",
       "  315,\n",
       "  714,\n",
       "  316,\n",
       "  15533,\n",
       "  11773,\n",
       "  77,\n",
       "  748,\n",
       "  31,\n",
       "  4361,\n",
       "  0,\n",
       "  354,\n",
       "  523,\n",
       "  16386,\n",
       "  294,\n",
       "  1030,\n",
       "  2792,\n",
       "  29239,\n",
       "  0,\n",
       "  0,\n",
       "  573,\n",
       "  415,\n",
       "  1219,\n",
       "  3606,\n",
       "  304,\n",
       "  27913,\n",
       "  31],\n",
       " [2, 3, 4, 14, 29, 37, 38],\n",
       " [10695, 309, 1897, 20299, 315, 309, 362],\n",
       " [1,\n",
       "  1,\n",
       "  1,\n",
       "  1,\n",
       "  1,\n",
       "  1,\n",
       "  1,\n",
       "  1,\n",
       "  1,\n",
       "  1,\n",
       "  1,\n",
       "  1,\n",
       "  1,\n",
       "  1,\n",
       "  1,\n",
       "  1,\n",
       "  1,\n",
       "  1,\n",
       "  1,\n",
       "  1,\n",
       "  1,\n",
       "  1,\n",
       "  1,\n",
       "  1,\n",
       "  1,\n",
       "  1,\n",
       "  1,\n",
       "  1,\n",
       "  1,\n",
       "  1,\n",
       "  1,\n",
       "  1,\n",
       "  1,\n",
       "  1,\n",
       "  1,\n",
       "  1,\n",
       "  1,\n",
       "  1,\n",
       "  1,\n",
       "  1,\n",
       "  1,\n",
       "  1,\n",
       "  1,\n",
       "  1,\n",
       "  1,\n",
       "  1])"
      ]
     },
     "execution_count": 14,
     "metadata": {},
     "output_type": "execute_result"
    }
   ],
   "source": [
    "output_tokens, masked_lm_positions, masked_lm_labels, token_boundary"
   ]
  },
  {
   "cell_type": "code",
   "execution_count": null,
   "metadata": {},
   "outputs": [],
   "source": []
  },
  {
   "cell_type": "code",
   "execution_count": null,
   "metadata": {},
   "outputs": [],
   "source": []
  }
 ],
 "metadata": {
  "kernelspec": {
   "display_name": "Python 3",
   "language": "python",
   "name": "python3"
  },
  "language_info": {
   "codemirror_mode": {
    "name": "ipython",
    "version": 3
   },
   "file_extension": ".py",
   "mimetype": "text/x-python",
   "name": "python",
   "nbconvert_exporter": "python",
   "pygments_lexer": "ipython3",
   "version": "3.8.8"
  }
 },
 "nbformat": 4,
 "nbformat_minor": 4
}
